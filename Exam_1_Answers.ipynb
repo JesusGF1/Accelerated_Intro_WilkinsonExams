{
 "cells": [
  {
   "cell_type": "markdown",
   "metadata": {},
   "source": [
    "# Jesús González Ferrer - First week Exam"
   ]
  },
  {
   "cell_type": "markdown",
   "metadata": {},
   "source": [
    "In this notebook I will answer the problems that appear in the Exam week 1 jupyter notebook"
   ]
  },
  {
   "cell_type": "markdown",
   "metadata": {},
   "source": [
    "## **Problem 1**\n",
    "\n",
    "Copy the Locus_Germplasm_Phenotype_20130122.txt file into your copy of the Exams Git\n",
    "    \n",
    "Create a new Jupyter Notebook in your Exams folder called \"Exam_1_Answers\" using the 'bash' kernel\n",
    "\n",
    "Do the rest of this exam inside of that the \"Exam_1_Answers\" Notebook\n"
   ]
  },
  {
   "cell_type": "code",
   "execution_count": null,
   "metadata": {},
   "outputs": [],
   "source": []
  },
  {
   "cell_type": "markdown",
   "metadata": {},
   "source": [
    "## **Problem 2**\n",
    "\n",
    "Create a directory listing command that shows:\n",
    "\n",
    "*    the ownership of the file\n",
    "*    it's file-size, in Megabytes (i.e. human readable)\n",
    "\n",
    "then:\n",
    "in words (in a Markdown box), describe the permissions on that file (read/write/execute) for users, groups, and \"anyone\""
   ]
  },
  {
   "cell_type": "code",
   "execution_count": null,
   "metadata": {},
   "outputs": [],
   "source": [
    "ls -lh Locus_Germplasm_Phenotype_20130122.txt"
   ]
  },
  {
   "cell_type": "markdown",
   "metadata": {},
   "source": [
    "#### Problem 2 explanation: \n",
    "\n",
    "-The file Locus_Germplasm_Phenotype_20130122.txt can be read and written by the user but can not be executed. \n",
    "\n",
    "-The file can be read and written by the group but it can not be executed. \n",
    "\n",
    "-The file can be read by anyone but not written or executed."
   ]
  },
  {
   "cell_type": "markdown",
   "metadata": {},
   "source": [
    "## **Problem 3**\n",
    "\n",
    "Create a command that outputs only the \"header\" line of Locus_Germplasm_Phenotype_20130122.txt\n"
   ]
  },
  {
   "cell_type": "code",
   "execution_count": null,
   "metadata": {
    "scrolled": true
   },
   "outputs": [],
   "source": [
    "head -1 Locus_Germplasm_Phenotype_20130122.txt"
   ]
  },
  {
   "cell_type": "markdown",
   "metadata": {},
   "source": [
    "#### Problem 3 explanation\n",
    "\n",
    "The header is the first line of the text file. Using **head -1** we obtain only the first line therefore the command outputs only the header of the file.\n"
   ]
  },
  {
   "cell_type": "markdown",
   "metadata": {},
   "source": [
    "## **Problem 4**\n",
    "\n",
    "Create a command that outputs the total number of lines in Locus_Germplasm_Phenotype_20130122.txt\n"
   ]
  },
  {
   "cell_type": "code",
   "execution_count": null,
   "metadata": {},
   "outputs": [],
   "source": [
    "echo \"The number of lines in the file is: \"\n",
    "wc -l Locus_Germplasm_Phenotype_20130122.txt | grep -Eo \"^[0-9]+\""
   ]
  },
  {
   "cell_type": "markdown",
   "metadata": {},
   "source": [
    "#### Problem 4 explanation\n",
    "\n",
    "We use word count -l to obtain the number of lines of the file but it also returns the name of the file. In order to remove this we use a pipe with grep to only select the number of lines from the file.\n"
   ]
  },
  {
   "cell_type": "markdown",
   "metadata": {},
   "source": [
    "## **Problem 5**\n",
    "\n",
    "Create a command that writes ONLY the data lines (i.e. excludes the header!) to a new file called \"Data_Only.csv\"    prove that your output file has the expected number of lines\n"
   ]
  },
  {
   "cell_type": "code",
   "execution_count": null,
   "metadata": {},
   "outputs": [],
   "source": [
    "tail -n+2 Locus_Germplasm_Phenotype_20130122.txt > Data_Only.csv\n",
    "cat Data_Only.csv | wc -l"
   ]
  },
  {
   "cell_type": "markdown",
   "metadata": {},
   "source": [
    "#### Problem 5 explanation: \n",
    "\n",
    "With **tail -n+2** we show from the second line to the last one and we output it to the csv document. \n",
    "In problem 4 we saw that the number of lines in the file is 7216 therefore once we remove the header we expect to have 7215. To prove this I presented all the lines from the csv in the console with cat and piped the list to wc -l, which counts the lines.\n"
   ]
  },
  {
   "cell_type": "markdown",
   "metadata": {},
   "source": [
    "## **Problem 6**\n",
    "\n",
    "Create a command that shows all of the lines that have a phenotype including the word \"root\"\n"
   ]
  },
  {
   "cell_type": "code",
   "execution_count": null,
   "metadata": {},
   "outputs": [],
   "source": [
    "echo \"The lines in which the word root appears are the following: \"\n",
    "\n",
    "grep -E -ian \"root\" Locus_Germplasm_Phenotype_20130122.txt"
   ]
  },
  {
   "cell_type": "markdown",
   "metadata": {},
   "source": [
    "#### Explanation problem 6:\n",
    "\n",
    "Using **grep -in** we obtain the lines (n) in which root appears written either with a capital R or without the capital R (i for case insensitive). It also shows the lines that have the word roots, root- etc. But I think that for this exercise the lower specificity is beneficial. If we wanted to see only the number of the line we would pipe the output to another grep"
   ]
  },
  {
   "cell_type": "markdown",
   "metadata": {},
   "source": [
    "## **Problem 7**\n",
    "\n",
    "Create a command that writes the AGI Locus Code for every line that has a phenotype including the word \"root\" to a file called: Root-associated-Loci.txt\n"
   ]
  },
  {
   "cell_type": "code",
   "execution_count": null,
   "metadata": {},
   "outputs": [],
   "source": [
    "grep -E -ia \"root\" Locus_Germplasm_Phenotype_20130122.txt | grep -E -oi \"^AT[0-5]G[0-9]{5}\" > Root-associated-Loci.txt\n",
    "cat Root-associated-Loci.txt"
   ]
  },
  {
   "cell_type": "markdown",
   "metadata": {},
   "source": [
    "#### Explanation problem 7:\n",
    "\n",
    "Using **grep -in** we obtain the lines (n) in which root appears written either with a capital R or without the capital R (i)\n",
    "Then we pipe the output to another grep that takes into account the structure of the AGI Locus Code. Locus Codes have a predictable structure\n",
    "\n",
    "*    The first character is \"A\" or \"a\"\n",
    "*    The second character is \"T\" or \"t\"\n",
    "*    The third character is the chromosome number (between 1 and 5)\n",
    "*    The fourth character is \"G\" or \"g\"\n",
    "*    The remaining characters are a set of 5 digits (between 0 and 9)\n",
    "\n",
    "To differentiate between the AGI Locus Code that may appear in the descriptions (and that I believe should not be considered equal to the ones that appear to the begining of each line) I used the regular expresion \\^\n",
    "\n",
    "Lastly we direct the output to a text file.\n",
    "To check that the text file is correct we can see its content with cat"
   ]
  },
  {
   "cell_type": "markdown",
   "metadata": {},
   "source": [
    "## **Problem 8**\n",
    "\n",
    "Create a command that writes the PubMed ID for every line that has a phenotype including the word \"root\" to a file called: Root-associated-Publications.txt\n"
   ]
  },
  {
   "cell_type": "code",
   "execution_count": null,
   "metadata": {},
   "outputs": [],
   "source": [
    "grep -E -ia \"root\" Locus_Germplasm_Phenotype_20130122.txt | grep -E -oi \"[0-9]+$\" > Root-associated-Publications.txt\n",
    "\n",
    "cat Root-associated-Publications.txt "
   ]
  },
  {
   "cell_type": "markdown",
   "metadata": {},
   "source": [
    "#### Explanation Problem 8: \n",
    "\n",
    "With the first command we obtain the lines in wich the word root appears in the phenotype description. We pipe this to the second grep in wich we isolate the pubmed ID of each line with -0, taking into account that the pubmed id is a number with an unknown length, preceded by a space and followed by the end of the line. \n",
    "If we don't write $ we will be getting numbers that don't correspond to the pubmed ID.\n",
    "Lastly we direct the output to a text file"
   ]
  },
  {
   "cell_type": "markdown",
   "metadata": {},
   "source": [
    "## **Problem 9**\n",
    "\n",
    "Control experiment: You would hypothesize that genes associated with roots should be found on all chromosomes. Find a way (one or more commands) to test this hypothesis. In this dataset, is the hypothesis true?\n"
   ]
  },
  {
   "cell_type": "code",
   "execution_count": null,
   "metadata": {},
   "outputs": [],
   "source": [
    "grep -E -ian \"root\" Locus_Germplasm_Phenotype_20130122.txt | grep -E -aoin \"AT[0-5]G[0-9]{5}\" | grep -E -aoi \"AT[0-5]\" | grep -E -o [0-5] | cat"
   ]
  },
  {
   "cell_type": "code",
   "execution_count": null,
   "metadata": {},
   "outputs": [],
   "source": [
    "echo \"there is a result for root in chromosome \"\n",
    "grep -E -ain \"root\" Locus_Germplasm_Phenotype_20130122.txt | grep -E -aoin \"AT[0-5]G[0-9]{5}\" | grep -E -aoi \"AT[0-5]\" | grep -E -m1 -o 1 | cat\n",
    "\n",
    "\n",
    "echo \"there is a result for root in chromosome \"\n",
    "grep -E -ain \"root\" Locus_Germplasm_Phenotype_20130122.txt | grep -E -aoin \"AT[0-5]G[0-9]{5}\" | grep -E -aoi \"AT[0-5]\" | grep -E -m1 -o 2 | cat\n",
    "\n",
    "echo \"there is a result for root in chromosome \"\n",
    "grep -E -ain \"root\" Locus_Germplasm_Phenotype_20130122.txt | grep -E -aoin \"AT[0-5]G[0-9]{5}\" | grep -E -aoi \"AT[0-5]\" | grep -E -m1 -o 3 | cat\n",
    "\n",
    "echo \"there is a result for root in chromosome \"\n",
    "grep -E -ain \"root\" Locus_Germplasm_Phenotype_20130122.txt | grep -E -aoin \"AT[0-5]G[0-9]{5}\" | grep -E -aoi \"AT[0-5]\" | grep -E -m1 -o 4 | cat\n",
    "\n",
    "echo \"there is a result for root in chromosome \"\n",
    "grep -E -ain \"root\" Locus_Germplasm_Phenotype_20130122.txt | grep -E -aoin \"AT[0-5]G[0-9]{5}\" | grep -E -aoi \"AT[0-5]\" | grep -E -m1 -o 5 | cat"
   ]
  },
  {
   "cell_type": "code",
   "execution_count": null,
   "metadata": {},
   "outputs": [],
   "source": [
    "echo \"there are \" \n",
    "grep -E -ain \"root\" Locus_Germplasm_Phenotype_20130122.txt | grep -E -aoin \"AT[0-5]G[0-9]{5}\" | grep -E -aoi \"AT[0-5]\" | grep -E -ao 1 | wc -l | cat\n",
    "echo \"phenotypes with root in their description for chromosome 1\"\n",
    "\n",
    "echo \"there are \"\n",
    "grep -E -ain \"root\" Locus_Germplasm_Phenotype_20130122.txt | grep -E -aoin \"AT[0-5]G[0-9]{5}\" | grep -E -aoi \"AT[0-5]\" | grep -E -ao 2 | wc -l | cat\n",
    "echo \"phenotypes with root in their description for chromosome 2\"\n",
    "\n",
    "echo \"there are \"\n",
    "grep -E -ain \"root\" Locus_Germplasm_Phenotype_20130122.txt | grep -E -aoin \"AT[0-5]G[0-9]{5}\" | grep -E -aoi \"AT[0-5]\" | grep -E -ao 3 | wc -l | cat\n",
    "echo \"phenotypes with root in their description for chromosome 3\"\n",
    "\n",
    "echo \"there are \"\n",
    "grep -E -ain \"root\" Locus_Germplasm_Phenotype_20130122.txt | grep -E -aoin \"AT[0-5]G[0-9]{5}\" | grep -E -aoi \"AT[0-5]\" | grep -E -ao 4 | wc -l | cat\n",
    "echo \"phenotypes with root in their description for chromosome 4\"\n",
    "\n",
    "echo \"there are \"\n",
    "grep -E -ain \"root\" Locus_Germplasm_Phenotype_20130122.txt | grep -E -aoin \"AT[0-5]G[0-9]{5}\" | grep -E -aoi \"AT[0-5]\" | grep -E -ao 5 | wc -l | cat\n",
    "echo \"phenotypes with root in their description for chromosome 5\""
   ]
  },
  {
   "cell_type": "code",
   "execution_count": null,
   "metadata": {},
   "outputs": [],
   "source": [
    "grep -E -aoi \"AT[0-5]\" Root-associated-Loci.txt | grep -E -o [0-5]"
   ]
  },
  {
   "cell_type": "markdown",
   "metadata": {},
   "source": [
    "#### Explanation problem 9: \n",
    "\n",
    "The chromosome to which the locus belongs can be found in their AGI Locus Code, being the chromosome the third character of the code. Using grep and pipes with different queries I managed to isolate the number of the chromosome to which the \"root\" loci belonged. As we can see the 5 chromosomes can be found therefore the hypothesis can be deemed True.\n",
    "The first box of code provides a simpler and less tangled way to solve the problem but it is harder to read than the second box of code. In the second box of code I searched for a match between each chromosome and the phenotypes with root in its description and then chose only the first result. This way allows us to see if there is atleast one gene related to root for each chromosome. The third box of code shows the way to do it while counting how many phenotypes with root there are for every chromosome. Counting the number of lines with wc -l allows us to count the number of genes that are in each chromosome.\n",
    "\n",
    "The last box has been introduced during the monday class. It is very simmilar to the first box of the exercise but it works better because it can be used as a control for exercise 7 too."
   ]
  },
  {
   "cell_type": "markdown",
   "metadata": {},
   "source": [
    "## Problem 10\n",
    "\n",
    "If your control experiment shows genes on every chromosome, then you can skip this question! (you answered Problem 9 correctly!)\n",
    "\n",
    "If your control experiment shows genes only on one or two chromosomes, then you have to explain why... what could the problem be? (I told you specifically to be careful about this problem!)\n"
   ]
  },
  {
   "cell_type": "markdown",
   "metadata": {},
   "source": [
    "## Problem 11\n",
    "\n",
    "'git commit' and 'git push' your answers to your GitHub, then give me your GitHub username before you leave the class. I will clone your repositories and grade your answers.\n"
   ]
  }
 ],
 "metadata": {
  "kernelspec": {
   "display_name": "Bash",
   "language": "bash",
   "name": "bash"
  },
  "language_info": {
   "codemirror_mode": "shell",
   "file_extension": ".sh",
   "mimetype": "text/x-sh",
   "name": "bash"
  }
 },
 "nbformat": 4,
 "nbformat_minor": 2
}
